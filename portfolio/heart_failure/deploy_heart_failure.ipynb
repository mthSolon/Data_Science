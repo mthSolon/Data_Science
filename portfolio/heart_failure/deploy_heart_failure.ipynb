{
  "nbformat": 4,
  "nbformat_minor": 0,
  "metadata": {
    "colab": {
      "name": "deploy- heart failure.ipynb",
      "provenance": [],
      "collapsed_sections": []
    },
    "kernelspec": {
      "name": "python3",
      "display_name": "Python 3"
    },
    "language_info": {
      "name": "python"
    }
  },
  "cells": [
    {
      "cell_type": "code",
      "source": [
        "!pip install gradio"
      ],
      "metadata": {
        "id": "rEDL3SZ19of0"
      },
      "execution_count": null,
      "outputs": []
    },
    {
      "cell_type": "code",
      "execution_count": null,
      "metadata": {
        "id": "bg2HGdAioIHQ"
      },
      "outputs": [],
      "source": [
        "import joblib\n",
        "import pandas as pd\n",
        "import gradio as gr\n",
        "import numpy as np"
      ]
    },
    {
      "cell_type": "code",
      "source": [
        "model = joblib.load('./heart_failure_model.pkl')"
      ],
      "metadata": {
        "id": "8Ult8-7GqPiY"
      },
      "execution_count": null,
      "outputs": []
    },
    {
      "cell_type": "code",
      "source": [
        "#Interface do modelo\n",
        "def classify(age, anaemia, creatinine_phospho, diabetes, ejection_fraction, high_blood_pressure, platelets, serum_creatinine, serum_sodium, sex, smoking):\n",
        "  df = pd.DataFrame.from_dict({\n",
        "      'age': [age],\n",
        "      'anaemia': [anaemia],\n",
        "      'creatinine_phosphokinase' : [creatinine_phospho],\n",
        "      'diabetes': [diabetes],\n",
        "      'ejection_fraction': [ejection_fraction],\n",
        "      'high_blood_pressure' : [high_blood_pressure],\n",
        "      'platelets': [platelets],\n",
        "      'serum_creatinine': [serum_creatinine],\n",
        "      'serum_sodium': [serum_sodium],\n",
        "      'sex': [sex],\n",
        "      'smoking': [smoking]\n",
        "  })\n",
        "  pred = model.predict_proba(df)[0]\n",
        "  return {'Sobrevive': pred[0], 'Óbito': pred[1]}\n",
        "\n",
        "iface = gr.Interface(\n",
        "    classify,\n",
        "    [\n",
        "      gr.inputs.Number(label='Idade'),\n",
        "      gr.inputs.Dropdown(['Não tenho', 'Tenho'], type='index', label='Anemia'),\n",
        "      gr.inputs.Number(label='Creatinofosfoquinase'),\n",
        "      gr.inputs.Dropdown(['Não tenho', 'Tenho'], type='index', label='Diabetes'),\n",
        "      gr.inputs.Slider(0, 100, label='Fração de ejeção (Porcentagem)'),\n",
        "      gr.inputs.Dropdown(['Não tenho', 'Tenho'], type='index', label='Hipertensão'),\n",
        "      gr.inputs.Number(label='Plaquetas (kiloplaquetas/mL)'),\n",
        "      gr.inputs.Number(label='Nível de creatinina no sangue (mg/dL)'),\n",
        "      gr.inputs.Number(label='Nível de sódio no sangue (mEq/L)'),\n",
        "      gr.inputs.Radio(['Feminino', 'Masculino'], type='index', label='Sexo'),\n",
        "      gr.inputs.Radio(['Não fumo', 'Fumo'], type='index', label='Fumante')\n",
        "      ],\n",
        "    'label',\n",
        "    description='Ao preencher os campos abaixo, o modelo irá prever as probabilidades de morte por insuficiência cardíaca. Em valores númericos utilize \".\" em vez de \",\". Preencha corretamente os campos com valores válidos para não causar erro na interface.',\n",
        "    theme='dark-peach',\n",
        "    examples=[\n",
        "              [42, 'Não tenho', 5902, 'Não tenho', 30, 'Não tenho', 226000, 1, 142, 'Masculino', 'Não fumo']\n",
        "    ]\n",
        "  )\n",
        "\n",
        "iface.launch(share=True)"
      ],
      "metadata": {
        "id": "NeRyxPJKyMRq"
      },
      "execution_count": null,
      "outputs": []
    }
  ]
}