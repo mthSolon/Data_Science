{
  "nbformat": 4,
  "nbformat_minor": 0,
  "metadata": {
    "colab": {
      "name": "heart-failure.ipynb",
      "provenance": [],
      "collapsed_sections": []
    },
    "kernelspec": {
      "name": "python3",
      "display_name": "Python 3"
    },
    "language_info": {
      "name": "python"
    }
  },
  "cells": [
    {
      "cell_type": "code",
      "execution_count": null,
      "metadata": {
        "id": "xYg8e3fBWgmt"
      },
      "outputs": [],
      "source": [
        "import pandas as pd\n",
        "import numpy as np\n",
        "import matplotlib.pyplot as plt\n",
        "import seaborn as sns\n",
        "\n",
        "from sklearn.model_selection import train_test_split"
      ]
    },
    {
      "cell_type": "code",
      "source": [
        "df = pd.read_csv('/content/heart_failure_clinical_records_dataset.csv')\n",
        "df.drop(columns='time', inplace=True)\n",
        "df"
      ],
      "metadata": {
        "colab": {
          "base_uri": "https://localhost:8080/",
          "height": 488
        },
        "id": "IdZsTygtWowK",
        "outputId": "2290feb0-a676-4177-9dde-c2731226cfc6"
      },
      "execution_count": null,
      "outputs": [
        {
          "output_type": "execute_result",
          "data": {
            "text/html": [
              "\n",
              "  <div id=\"df-4e855468-c62f-472f-a643-ec95d3928d2f\">\n",
              "    <div class=\"colab-df-container\">\n",
              "      <div>\n",
              "<style scoped>\n",
              "    .dataframe tbody tr th:only-of-type {\n",
              "        vertical-align: middle;\n",
              "    }\n",
              "\n",
              "    .dataframe tbody tr th {\n",
              "        vertical-align: top;\n",
              "    }\n",
              "\n",
              "    .dataframe thead th {\n",
              "        text-align: right;\n",
              "    }\n",
              "</style>\n",
              "<table border=\"1\" class=\"dataframe\">\n",
              "  <thead>\n",
              "    <tr style=\"text-align: right;\">\n",
              "      <th></th>\n",
              "      <th>age</th>\n",
              "      <th>anaemia</th>\n",
              "      <th>creatinine_phosphokinase</th>\n",
              "      <th>diabetes</th>\n",
              "      <th>ejection_fraction</th>\n",
              "      <th>high_blood_pressure</th>\n",
              "      <th>platelets</th>\n",
              "      <th>serum_creatinine</th>\n",
              "      <th>serum_sodium</th>\n",
              "      <th>sex</th>\n",
              "      <th>smoking</th>\n",
              "      <th>DEATH_EVENT</th>\n",
              "    </tr>\n",
              "  </thead>\n",
              "  <tbody>\n",
              "    <tr>\n",
              "      <th>0</th>\n",
              "      <td>75.0</td>\n",
              "      <td>0</td>\n",
              "      <td>582</td>\n",
              "      <td>0</td>\n",
              "      <td>20</td>\n",
              "      <td>1</td>\n",
              "      <td>265000.00</td>\n",
              "      <td>1.9</td>\n",
              "      <td>130</td>\n",
              "      <td>1</td>\n",
              "      <td>0</td>\n",
              "      <td>1</td>\n",
              "    </tr>\n",
              "    <tr>\n",
              "      <th>1</th>\n",
              "      <td>55.0</td>\n",
              "      <td>0</td>\n",
              "      <td>7861</td>\n",
              "      <td>0</td>\n",
              "      <td>38</td>\n",
              "      <td>0</td>\n",
              "      <td>263358.03</td>\n",
              "      <td>1.1</td>\n",
              "      <td>136</td>\n",
              "      <td>1</td>\n",
              "      <td>0</td>\n",
              "      <td>1</td>\n",
              "    </tr>\n",
              "    <tr>\n",
              "      <th>2</th>\n",
              "      <td>65.0</td>\n",
              "      <td>0</td>\n",
              "      <td>146</td>\n",
              "      <td>0</td>\n",
              "      <td>20</td>\n",
              "      <td>0</td>\n",
              "      <td>162000.00</td>\n",
              "      <td>1.3</td>\n",
              "      <td>129</td>\n",
              "      <td>1</td>\n",
              "      <td>1</td>\n",
              "      <td>1</td>\n",
              "    </tr>\n",
              "    <tr>\n",
              "      <th>3</th>\n",
              "      <td>50.0</td>\n",
              "      <td>1</td>\n",
              "      <td>111</td>\n",
              "      <td>0</td>\n",
              "      <td>20</td>\n",
              "      <td>0</td>\n",
              "      <td>210000.00</td>\n",
              "      <td>1.9</td>\n",
              "      <td>137</td>\n",
              "      <td>1</td>\n",
              "      <td>0</td>\n",
              "      <td>1</td>\n",
              "    </tr>\n",
              "    <tr>\n",
              "      <th>4</th>\n",
              "      <td>65.0</td>\n",
              "      <td>1</td>\n",
              "      <td>160</td>\n",
              "      <td>1</td>\n",
              "      <td>20</td>\n",
              "      <td>0</td>\n",
              "      <td>327000.00</td>\n",
              "      <td>2.7</td>\n",
              "      <td>116</td>\n",
              "      <td>0</td>\n",
              "      <td>0</td>\n",
              "      <td>1</td>\n",
              "    </tr>\n",
              "    <tr>\n",
              "      <th>...</th>\n",
              "      <td>...</td>\n",
              "      <td>...</td>\n",
              "      <td>...</td>\n",
              "      <td>...</td>\n",
              "      <td>...</td>\n",
              "      <td>...</td>\n",
              "      <td>...</td>\n",
              "      <td>...</td>\n",
              "      <td>...</td>\n",
              "      <td>...</td>\n",
              "      <td>...</td>\n",
              "      <td>...</td>\n",
              "    </tr>\n",
              "    <tr>\n",
              "      <th>294</th>\n",
              "      <td>62.0</td>\n",
              "      <td>0</td>\n",
              "      <td>61</td>\n",
              "      <td>1</td>\n",
              "      <td>38</td>\n",
              "      <td>1</td>\n",
              "      <td>155000.00</td>\n",
              "      <td>1.1</td>\n",
              "      <td>143</td>\n",
              "      <td>1</td>\n",
              "      <td>1</td>\n",
              "      <td>0</td>\n",
              "    </tr>\n",
              "    <tr>\n",
              "      <th>295</th>\n",
              "      <td>55.0</td>\n",
              "      <td>0</td>\n",
              "      <td>1820</td>\n",
              "      <td>0</td>\n",
              "      <td>38</td>\n",
              "      <td>0</td>\n",
              "      <td>270000.00</td>\n",
              "      <td>1.2</td>\n",
              "      <td>139</td>\n",
              "      <td>0</td>\n",
              "      <td>0</td>\n",
              "      <td>0</td>\n",
              "    </tr>\n",
              "    <tr>\n",
              "      <th>296</th>\n",
              "      <td>45.0</td>\n",
              "      <td>0</td>\n",
              "      <td>2060</td>\n",
              "      <td>1</td>\n",
              "      <td>60</td>\n",
              "      <td>0</td>\n",
              "      <td>742000.00</td>\n",
              "      <td>0.8</td>\n",
              "      <td>138</td>\n",
              "      <td>0</td>\n",
              "      <td>0</td>\n",
              "      <td>0</td>\n",
              "    </tr>\n",
              "    <tr>\n",
              "      <th>297</th>\n",
              "      <td>45.0</td>\n",
              "      <td>0</td>\n",
              "      <td>2413</td>\n",
              "      <td>0</td>\n",
              "      <td>38</td>\n",
              "      <td>0</td>\n",
              "      <td>140000.00</td>\n",
              "      <td>1.4</td>\n",
              "      <td>140</td>\n",
              "      <td>1</td>\n",
              "      <td>1</td>\n",
              "      <td>0</td>\n",
              "    </tr>\n",
              "    <tr>\n",
              "      <th>298</th>\n",
              "      <td>50.0</td>\n",
              "      <td>0</td>\n",
              "      <td>196</td>\n",
              "      <td>0</td>\n",
              "      <td>45</td>\n",
              "      <td>0</td>\n",
              "      <td>395000.00</td>\n",
              "      <td>1.6</td>\n",
              "      <td>136</td>\n",
              "      <td>1</td>\n",
              "      <td>1</td>\n",
              "      <td>0</td>\n",
              "    </tr>\n",
              "  </tbody>\n",
              "</table>\n",
              "<p>299 rows × 12 columns</p>\n",
              "</div>\n",
              "      <button class=\"colab-df-convert\" onclick=\"convertToInteractive('df-4e855468-c62f-472f-a643-ec95d3928d2f')\"\n",
              "              title=\"Convert this dataframe to an interactive table.\"\n",
              "              style=\"display:none;\">\n",
              "        \n",
              "  <svg xmlns=\"http://www.w3.org/2000/svg\" height=\"24px\"viewBox=\"0 0 24 24\"\n",
              "       width=\"24px\">\n",
              "    <path d=\"M0 0h24v24H0V0z\" fill=\"none\"/>\n",
              "    <path d=\"M18.56 5.44l.94 2.06.94-2.06 2.06-.94-2.06-.94-.94-2.06-.94 2.06-2.06.94zm-11 1L8.5 8.5l.94-2.06 2.06-.94-2.06-.94L8.5 2.5l-.94 2.06-2.06.94zm10 10l.94 2.06.94-2.06 2.06-.94-2.06-.94-.94-2.06-.94 2.06-2.06.94z\"/><path d=\"M17.41 7.96l-1.37-1.37c-.4-.4-.92-.59-1.43-.59-.52 0-1.04.2-1.43.59L10.3 9.45l-7.72 7.72c-.78.78-.78 2.05 0 2.83L4 21.41c.39.39.9.59 1.41.59.51 0 1.02-.2 1.41-.59l7.78-7.78 2.81-2.81c.8-.78.8-2.07 0-2.86zM5.41 20L4 18.59l7.72-7.72 1.47 1.35L5.41 20z\"/>\n",
              "  </svg>\n",
              "      </button>\n",
              "      \n",
              "  <style>\n",
              "    .colab-df-container {\n",
              "      display:flex;\n",
              "      flex-wrap:wrap;\n",
              "      gap: 12px;\n",
              "    }\n",
              "\n",
              "    .colab-df-convert {\n",
              "      background-color: #E8F0FE;\n",
              "      border: none;\n",
              "      border-radius: 50%;\n",
              "      cursor: pointer;\n",
              "      display: none;\n",
              "      fill: #1967D2;\n",
              "      height: 32px;\n",
              "      padding: 0 0 0 0;\n",
              "      width: 32px;\n",
              "    }\n",
              "\n",
              "    .colab-df-convert:hover {\n",
              "      background-color: #E2EBFA;\n",
              "      box-shadow: 0px 1px 2px rgba(60, 64, 67, 0.3), 0px 1px 3px 1px rgba(60, 64, 67, 0.15);\n",
              "      fill: #174EA6;\n",
              "    }\n",
              "\n",
              "    [theme=dark] .colab-df-convert {\n",
              "      background-color: #3B4455;\n",
              "      fill: #D2E3FC;\n",
              "    }\n",
              "\n",
              "    [theme=dark] .colab-df-convert:hover {\n",
              "      background-color: #434B5C;\n",
              "      box-shadow: 0px 1px 3px 1px rgba(0, 0, 0, 0.15);\n",
              "      filter: drop-shadow(0px 1px 2px rgba(0, 0, 0, 0.3));\n",
              "      fill: #FFFFFF;\n",
              "    }\n",
              "  </style>\n",
              "\n",
              "      <script>\n",
              "        const buttonEl =\n",
              "          document.querySelector('#df-4e855468-c62f-472f-a643-ec95d3928d2f button.colab-df-convert');\n",
              "        buttonEl.style.display =\n",
              "          google.colab.kernel.accessAllowed ? 'block' : 'none';\n",
              "\n",
              "        async function convertToInteractive(key) {\n",
              "          const element = document.querySelector('#df-4e855468-c62f-472f-a643-ec95d3928d2f');\n",
              "          const dataTable =\n",
              "            await google.colab.kernel.invokeFunction('convertToInteractive',\n",
              "                                                     [key], {});\n",
              "          if (!dataTable) return;\n",
              "\n",
              "          const docLinkHtml = 'Like what you see? Visit the ' +\n",
              "            '<a target=\"_blank\" href=https://colab.research.google.com/notebooks/data_table.ipynb>data table notebook</a>'\n",
              "            + ' to learn more about interactive tables.';\n",
              "          element.innerHTML = '';\n",
              "          dataTable['output_type'] = 'display_data';\n",
              "          await google.colab.output.renderOutput(dataTable, element);\n",
              "          const docLink = document.createElement('div');\n",
              "          docLink.innerHTML = docLinkHtml;\n",
              "          element.appendChild(docLink);\n",
              "        }\n",
              "      </script>\n",
              "    </div>\n",
              "  </div>\n",
              "  "
            ],
            "text/plain": [
              "      age  anaemia  creatinine_phosphokinase  ...  sex  smoking  DEATH_EVENT\n",
              "0    75.0        0                       582  ...    1        0            1\n",
              "1    55.0        0                      7861  ...    1        0            1\n",
              "2    65.0        0                       146  ...    1        1            1\n",
              "3    50.0        1                       111  ...    1        0            1\n",
              "4    65.0        1                       160  ...    0        0            1\n",
              "..    ...      ...                       ...  ...  ...      ...          ...\n",
              "294  62.0        0                        61  ...    1        1            0\n",
              "295  55.0        0                      1820  ...    0        0            0\n",
              "296  45.0        0                      2060  ...    0        0            0\n",
              "297  45.0        0                      2413  ...    1        1            0\n",
              "298  50.0        0                       196  ...    1        1            0\n",
              "\n",
              "[299 rows x 12 columns]"
            ]
          },
          "metadata": {},
          "execution_count": 130
        }
      ]
    },
    {
      "cell_type": "code",
      "source": [
        "df.describe()"
      ],
      "metadata": {
        "colab": {
          "base_uri": "https://localhost:8080/",
          "height": 364
        },
        "id": "OuHRW8_5WqtR",
        "outputId": "248f705f-e06a-4060-a6f0-db2e00e9676a"
      },
      "execution_count": null,
      "outputs": [
        {
          "output_type": "execute_result",
          "data": {
            "text/html": [
              "\n",
              "  <div id=\"df-3d92ebb2-6735-441e-a369-2b9cb102d1b6\">\n",
              "    <div class=\"colab-df-container\">\n",
              "      <div>\n",
              "<style scoped>\n",
              "    .dataframe tbody tr th:only-of-type {\n",
              "        vertical-align: middle;\n",
              "    }\n",
              "\n",
              "    .dataframe tbody tr th {\n",
              "        vertical-align: top;\n",
              "    }\n",
              "\n",
              "    .dataframe thead th {\n",
              "        text-align: right;\n",
              "    }\n",
              "</style>\n",
              "<table border=\"1\" class=\"dataframe\">\n",
              "  <thead>\n",
              "    <tr style=\"text-align: right;\">\n",
              "      <th></th>\n",
              "      <th>age</th>\n",
              "      <th>anaemia</th>\n",
              "      <th>creatinine_phosphokinase</th>\n",
              "      <th>diabetes</th>\n",
              "      <th>ejection_fraction</th>\n",
              "      <th>high_blood_pressure</th>\n",
              "      <th>platelets</th>\n",
              "      <th>serum_creatinine</th>\n",
              "      <th>serum_sodium</th>\n",
              "      <th>sex</th>\n",
              "      <th>smoking</th>\n",
              "      <th>DEATH_EVENT</th>\n",
              "    </tr>\n",
              "  </thead>\n",
              "  <tbody>\n",
              "    <tr>\n",
              "      <th>count</th>\n",
              "      <td>299.000000</td>\n",
              "      <td>299.000000</td>\n",
              "      <td>299.000000</td>\n",
              "      <td>299.000000</td>\n",
              "      <td>299.000000</td>\n",
              "      <td>299.000000</td>\n",
              "      <td>299.000000</td>\n",
              "      <td>299.00000</td>\n",
              "      <td>299.000000</td>\n",
              "      <td>299.000000</td>\n",
              "      <td>299.00000</td>\n",
              "      <td>299.00000</td>\n",
              "    </tr>\n",
              "    <tr>\n",
              "      <th>mean</th>\n",
              "      <td>60.833893</td>\n",
              "      <td>0.431438</td>\n",
              "      <td>581.839465</td>\n",
              "      <td>0.418060</td>\n",
              "      <td>38.083612</td>\n",
              "      <td>0.351171</td>\n",
              "      <td>263358.029264</td>\n",
              "      <td>1.39388</td>\n",
              "      <td>136.625418</td>\n",
              "      <td>0.648829</td>\n",
              "      <td>0.32107</td>\n",
              "      <td>0.32107</td>\n",
              "    </tr>\n",
              "    <tr>\n",
              "      <th>std</th>\n",
              "      <td>11.894809</td>\n",
              "      <td>0.496107</td>\n",
              "      <td>970.287881</td>\n",
              "      <td>0.494067</td>\n",
              "      <td>11.834841</td>\n",
              "      <td>0.478136</td>\n",
              "      <td>97804.236869</td>\n",
              "      <td>1.03451</td>\n",
              "      <td>4.412477</td>\n",
              "      <td>0.478136</td>\n",
              "      <td>0.46767</td>\n",
              "      <td>0.46767</td>\n",
              "    </tr>\n",
              "    <tr>\n",
              "      <th>min</th>\n",
              "      <td>40.000000</td>\n",
              "      <td>0.000000</td>\n",
              "      <td>23.000000</td>\n",
              "      <td>0.000000</td>\n",
              "      <td>14.000000</td>\n",
              "      <td>0.000000</td>\n",
              "      <td>25100.000000</td>\n",
              "      <td>0.50000</td>\n",
              "      <td>113.000000</td>\n",
              "      <td>0.000000</td>\n",
              "      <td>0.00000</td>\n",
              "      <td>0.00000</td>\n",
              "    </tr>\n",
              "    <tr>\n",
              "      <th>25%</th>\n",
              "      <td>51.000000</td>\n",
              "      <td>0.000000</td>\n",
              "      <td>116.500000</td>\n",
              "      <td>0.000000</td>\n",
              "      <td>30.000000</td>\n",
              "      <td>0.000000</td>\n",
              "      <td>212500.000000</td>\n",
              "      <td>0.90000</td>\n",
              "      <td>134.000000</td>\n",
              "      <td>0.000000</td>\n",
              "      <td>0.00000</td>\n",
              "      <td>0.00000</td>\n",
              "    </tr>\n",
              "    <tr>\n",
              "      <th>50%</th>\n",
              "      <td>60.000000</td>\n",
              "      <td>0.000000</td>\n",
              "      <td>250.000000</td>\n",
              "      <td>0.000000</td>\n",
              "      <td>38.000000</td>\n",
              "      <td>0.000000</td>\n",
              "      <td>262000.000000</td>\n",
              "      <td>1.10000</td>\n",
              "      <td>137.000000</td>\n",
              "      <td>1.000000</td>\n",
              "      <td>0.00000</td>\n",
              "      <td>0.00000</td>\n",
              "    </tr>\n",
              "    <tr>\n",
              "      <th>75%</th>\n",
              "      <td>70.000000</td>\n",
              "      <td>1.000000</td>\n",
              "      <td>582.000000</td>\n",
              "      <td>1.000000</td>\n",
              "      <td>45.000000</td>\n",
              "      <td>1.000000</td>\n",
              "      <td>303500.000000</td>\n",
              "      <td>1.40000</td>\n",
              "      <td>140.000000</td>\n",
              "      <td>1.000000</td>\n",
              "      <td>1.00000</td>\n",
              "      <td>1.00000</td>\n",
              "    </tr>\n",
              "    <tr>\n",
              "      <th>max</th>\n",
              "      <td>95.000000</td>\n",
              "      <td>1.000000</td>\n",
              "      <td>7861.000000</td>\n",
              "      <td>1.000000</td>\n",
              "      <td>80.000000</td>\n",
              "      <td>1.000000</td>\n",
              "      <td>850000.000000</td>\n",
              "      <td>9.40000</td>\n",
              "      <td>148.000000</td>\n",
              "      <td>1.000000</td>\n",
              "      <td>1.00000</td>\n",
              "      <td>1.00000</td>\n",
              "    </tr>\n",
              "  </tbody>\n",
              "</table>\n",
              "</div>\n",
              "      <button class=\"colab-df-convert\" onclick=\"convertToInteractive('df-3d92ebb2-6735-441e-a369-2b9cb102d1b6')\"\n",
              "              title=\"Convert this dataframe to an interactive table.\"\n",
              "              style=\"display:none;\">\n",
              "        \n",
              "  <svg xmlns=\"http://www.w3.org/2000/svg\" height=\"24px\"viewBox=\"0 0 24 24\"\n",
              "       width=\"24px\">\n",
              "    <path d=\"M0 0h24v24H0V0z\" fill=\"none\"/>\n",
              "    <path d=\"M18.56 5.44l.94 2.06.94-2.06 2.06-.94-2.06-.94-.94-2.06-.94 2.06-2.06.94zm-11 1L8.5 8.5l.94-2.06 2.06-.94-2.06-.94L8.5 2.5l-.94 2.06-2.06.94zm10 10l.94 2.06.94-2.06 2.06-.94-2.06-.94-.94-2.06-.94 2.06-2.06.94z\"/><path d=\"M17.41 7.96l-1.37-1.37c-.4-.4-.92-.59-1.43-.59-.52 0-1.04.2-1.43.59L10.3 9.45l-7.72 7.72c-.78.78-.78 2.05 0 2.83L4 21.41c.39.39.9.59 1.41.59.51 0 1.02-.2 1.41-.59l7.78-7.78 2.81-2.81c.8-.78.8-2.07 0-2.86zM5.41 20L4 18.59l7.72-7.72 1.47 1.35L5.41 20z\"/>\n",
              "  </svg>\n",
              "      </button>\n",
              "      \n",
              "  <style>\n",
              "    .colab-df-container {\n",
              "      display:flex;\n",
              "      flex-wrap:wrap;\n",
              "      gap: 12px;\n",
              "    }\n",
              "\n",
              "    .colab-df-convert {\n",
              "      background-color: #E8F0FE;\n",
              "      border: none;\n",
              "      border-radius: 50%;\n",
              "      cursor: pointer;\n",
              "      display: none;\n",
              "      fill: #1967D2;\n",
              "      height: 32px;\n",
              "      padding: 0 0 0 0;\n",
              "      width: 32px;\n",
              "    }\n",
              "\n",
              "    .colab-df-convert:hover {\n",
              "      background-color: #E2EBFA;\n",
              "      box-shadow: 0px 1px 2px rgba(60, 64, 67, 0.3), 0px 1px 3px 1px rgba(60, 64, 67, 0.15);\n",
              "      fill: #174EA6;\n",
              "    }\n",
              "\n",
              "    [theme=dark] .colab-df-convert {\n",
              "      background-color: #3B4455;\n",
              "      fill: #D2E3FC;\n",
              "    }\n",
              "\n",
              "    [theme=dark] .colab-df-convert:hover {\n",
              "      background-color: #434B5C;\n",
              "      box-shadow: 0px 1px 3px 1px rgba(0, 0, 0, 0.15);\n",
              "      filter: drop-shadow(0px 1px 2px rgba(0, 0, 0, 0.3));\n",
              "      fill: #FFFFFF;\n",
              "    }\n",
              "  </style>\n",
              "\n",
              "      <script>\n",
              "        const buttonEl =\n",
              "          document.querySelector('#df-3d92ebb2-6735-441e-a369-2b9cb102d1b6 button.colab-df-convert');\n",
              "        buttonEl.style.display =\n",
              "          google.colab.kernel.accessAllowed ? 'block' : 'none';\n",
              "\n",
              "        async function convertToInteractive(key) {\n",
              "          const element = document.querySelector('#df-3d92ebb2-6735-441e-a369-2b9cb102d1b6');\n",
              "          const dataTable =\n",
              "            await google.colab.kernel.invokeFunction('convertToInteractive',\n",
              "                                                     [key], {});\n",
              "          if (!dataTable) return;\n",
              "\n",
              "          const docLinkHtml = 'Like what you see? Visit the ' +\n",
              "            '<a target=\"_blank\" href=https://colab.research.google.com/notebooks/data_table.ipynb>data table notebook</a>'\n",
              "            + ' to learn more about interactive tables.';\n",
              "          element.innerHTML = '';\n",
              "          dataTable['output_type'] = 'display_data';\n",
              "          await google.colab.output.renderOutput(dataTable, element);\n",
              "          const docLink = document.createElement('div');\n",
              "          docLink.innerHTML = docLinkHtml;\n",
              "          element.appendChild(docLink);\n",
              "        }\n",
              "      </script>\n",
              "    </div>\n",
              "  </div>\n",
              "  "
            ],
            "text/plain": [
              "              age     anaemia  ...    smoking  DEATH_EVENT\n",
              "count  299.000000  299.000000  ...  299.00000    299.00000\n",
              "mean    60.833893    0.431438  ...    0.32107      0.32107\n",
              "std     11.894809    0.496107  ...    0.46767      0.46767\n",
              "min     40.000000    0.000000  ...    0.00000      0.00000\n",
              "25%     51.000000    0.000000  ...    0.00000      0.00000\n",
              "50%     60.000000    0.000000  ...    0.00000      0.00000\n",
              "75%     70.000000    1.000000  ...    1.00000      1.00000\n",
              "max     95.000000    1.000000  ...    1.00000      1.00000\n",
              "\n",
              "[8 rows x 12 columns]"
            ]
          },
          "metadata": {},
          "execution_count": 131
        }
      ]
    },
    {
      "cell_type": "code",
      "source": [
        "df.info()"
      ],
      "metadata": {
        "colab": {
          "base_uri": "https://localhost:8080/"
        },
        "id": "b72JfXT3XVRS",
        "outputId": "4c38f91b-24aa-4748-815c-8a9d2dacbe4b"
      },
      "execution_count": null,
      "outputs": [
        {
          "output_type": "stream",
          "name": "stdout",
          "text": [
            "<class 'pandas.core.frame.DataFrame'>\n",
            "RangeIndex: 299 entries, 0 to 298\n",
            "Data columns (total 12 columns):\n",
            " #   Column                    Non-Null Count  Dtype  \n",
            "---  ------                    --------------  -----  \n",
            " 0   age                       299 non-null    float64\n",
            " 1   anaemia                   299 non-null    int64  \n",
            " 2   creatinine_phosphokinase  299 non-null    int64  \n",
            " 3   diabetes                  299 non-null    int64  \n",
            " 4   ejection_fraction         299 non-null    int64  \n",
            " 5   high_blood_pressure       299 non-null    int64  \n",
            " 6   platelets                 299 non-null    float64\n",
            " 7   serum_creatinine          299 non-null    float64\n",
            " 8   serum_sodium              299 non-null    int64  \n",
            " 9   sex                       299 non-null    int64  \n",
            " 10  smoking                   299 non-null    int64  \n",
            " 11  DEATH_EVENT               299 non-null    int64  \n",
            "dtypes: float64(3), int64(9)\n",
            "memory usage: 28.2 KB\n"
          ]
        }
      ]
    },
    {
      "cell_type": "code",
      "source": [
        "sns.countplot(x=df['DEATH_EVENT']); #Poucas entradas com o valor '1'. Irá afetar os algoritimos no momento de reconhecer pacientes que morreram."
      ],
      "metadata": {
        "colab": {
          "base_uri": "https://localhost:8080/",
          "height": 280
        },
        "id": "4TeGUliQeBfG",
        "outputId": "c9093168-855f-461e-840b-bb4c002482ac"
      },
      "execution_count": null,
      "outputs": [
        {
          "output_type": "display_data",
          "data": {
            "image/png": "[encoded data removed]",
            "text/plain": [
              "<Figure size 432x288 with 1 Axes>"
            ]
          },
          "metadata": {
            "needs_background": "light"
          }
        }
      ]
    },
    {
      "cell_type": "code",
      "source": [
        "df.corr()['DEATH_EVENT'].sort_values(ascending=False)"
      ],
      "metadata": {
        "colab": {
          "base_uri": "https://localhost:8080/"
        },
        "id": "EuE9dNTnamYq",
        "outputId": "6d82184b-1aae-4c34-fa4a-ff1e77a65bd1"
      },
      "execution_count": null,
      "outputs": [
        {
          "output_type": "execute_result",
          "data": {
            "text/plain": [
              "DEATH_EVENT                 1.000000\n",
              "serum_creatinine            0.294278\n",
              "age                         0.253729\n",
              "high_blood_pressure         0.079351\n",
              "anaemia                     0.066270\n",
              "creatinine_phosphokinase    0.062728\n",
              "diabetes                   -0.001943\n",
              "sex                        -0.004316\n",
              "smoking                    -0.012623\n",
              "platelets                  -0.049139\n",
              "serum_sodium               -0.195204\n",
              "ejection_fraction          -0.268603\n",
              "Name: DEATH_EVENT, dtype: float64"
            ]
          },
          "metadata": {},
          "execution_count": 134
        }
      ]
    },
    {
      "cell_type": "markdown",
      "source": [
        "##Tratamento dos outliers"
      ],
      "metadata": {
        "id": "lys7qlEpOlp8"
      }
    },
    {
      "cell_type": "code",
      "source": [
        "sns.boxplot(x=df['serum_creatinine']);"
      ],
      "metadata": {
        "colab": {
          "base_uri": "https://localhost:8080/",
          "height": 280
        },
        "id": "QHyw4s9XqrJh",
        "outputId": "d28e63ee-484e-4876-dd51-67fbb7369282"
      },
      "execution_count": null,
      "outputs": [
        {
          "output_type": "display_data",
          "data": {
            "image/png": "[encoded data removed]",
            "text/plain": [
              "<Figure size 432x288 with 1 Axes>"
            ]
          },
          "metadata": {
            "needs_background": "light"
          }
        }
      ]
    },
    {
      "cell_type": "code",
      "source": [
        "sns.boxplot(x=df['serum_sodium']);"
      ],
      "metadata": {
        "colab": {
          "base_uri": "https://localhost:8080/",
          "height": 280
        },
        "id": "C8W_ZwWXOoIs",
        "outputId": "612848f4-d8ad-4550-a2a9-ad8d0d58344a"
      },
      "execution_count": null,
      "outputs": [
        {
          "output_type": "display_data",
          "data": {
            "image/png": "[encoded data removed]",
            "text/plain": [
              "<Figure size 432x288 with 1 Axes>"
            ]
          },
          "metadata": {
            "needs_background": "light"
          }
        }
      ]
    },
    {
      "cell_type": "code",
      "source": [
        "sns.boxplot(x=df['platelets']);"
      ],
      "metadata": {
        "colab": {
          "base_uri": "https://localhost:8080/",
          "height": 279
        },
        "id": "lr1B8xUXOqU1",
        "outputId": "d2dad7f3-3a80-44ec-8f62-9f186b220469"
      },
      "execution_count": null,
      "outputs": [
        {
          "output_type": "display_data",
          "data": {
            "image/png": "[encoded data removed]",
            "text/plain": [
              "<Figure size 432x288 with 1 Axes>"
            ]
          },
          "metadata": {
            "needs_background": "light"
          }
        }
      ]
    },
    {
      "cell_type": "code",
      "source": [
        "sns.boxplot(x=df['creatinine_phosphokinase']);"
      ],
      "metadata": {
        "colab": {
          "base_uri": "https://localhost:8080/",
          "height": 280
        },
        "id": "FXmsSlwbOr98",
        "outputId": "832fd6ba-51ef-4787-ad45-aa9d96dbd9db"
      },
      "execution_count": null,
      "outputs": [
        {
          "output_type": "display_data",
          "data": {
            "image/png": "[encoded data removed]",
            "text/plain": [
              "<Figure size 432x288 with 1 Axes>"
            ]
          },
          "metadata": {
            "needs_background": "light"
          }
        }
      ]
    },
    {
      "cell_type": "markdown",
      "source": [
        "Os gráficos acusam inúmeros outliers, entretanto não há necessidade de removê-los ou tratá-los, pois é possível que uma pessoa alcance essa quantidade nos exames. Ademais, esses outliers acompanham uma grande influência na nossa variável \"target\" DEATH_EVENT. "
      ],
      "metadata": {
        "id": "5-tVpu2ZO240"
      }
    },
    {
      "cell_type": "markdown",
      "source": [
        "##Sobreamostragem com SMOTE - Tratamento dos dados desbalanceados"
      ],
      "metadata": {
        "id": "UmK2kq7k4EMZ"
      }
    },
    {
      "cell_type": "markdown",
      "source": [
        "Recentemente estudei sobre classes desbalanceadas e como solucioná-las e descobri que o SMOTE não é uma boa solução, mas visto que ainda não me aprofundei sobre o assunto e é o único que conheço, utilizei-o assim mesmo."
      ],
      "metadata": {
        "id": "_CFWNNOo9umr"
      }
    },
    {
      "cell_type": "code",
      "source": [
        "from imblearn.over_sampling import SMOTE\n",
        "\n",
        "X, y = df.drop(columns='DEATH_EVENT'), df['DEATH_EVENT'].copy()\n",
        "\n",
        "smote = SMOTE(sampling_strategy = 'minority')\n",
        "X_over, y_over = smote.fit_resample(X, y)"
      ],
      "metadata": {
        "id": "31FgWRkj4I3h"
      },
      "execution_count": null,
      "outputs": []
    },
    {
      "cell_type": "code",
      "source": [
        "X.shape, X_over.shape, y.shape, y_over.shape #Aumento de entradas"
      ],
      "metadata": {
        "colab": {
          "base_uri": "https://localhost:8080/"
        },
        "id": "GBIRjJ_w46Hr",
        "outputId": "ece9aa52-4619-4825-e209-b1fa252d11bb"
      },
      "execution_count": null,
      "outputs": [
        {
          "output_type": "execute_result",
          "data": {
            "text/plain": [
              "((299, 11), (406, 11), (299,), (406,))"
            ]
          },
          "metadata": {},
          "execution_count": 140
        }
      ]
    },
    {
      "cell_type": "code",
      "source": [
        "np.unique(y, return_counts=True), np.unique(y_over, return_counts=True) #Dados balanceados"
      ],
      "metadata": {
        "colab": {
          "base_uri": "https://localhost:8080/"
        },
        "id": "BeFtZZ1Q5XzC",
        "outputId": "2489dd25-33e1-4b59-a340-d046b58b90d6"
      },
      "execution_count": null,
      "outputs": [
        {
          "output_type": "execute_result",
          "data": {
            "text/plain": [
              "((array([0, 1]), array([203,  96])), (array([0, 1]), array([203, 203])))"
            ]
          },
          "metadata": {},
          "execution_count": 141
        }
      ]
    },
    {
      "cell_type": "markdown",
      "source": [
        "##Divisão entre treinamento e teste"
      ],
      "metadata": {
        "id": "HV22Ji12PQ1k"
      }
    },
    {
      "cell_type": "code",
      "source": [
        "X_train, X_test, y_train, y_test = train_test_split(X_over, y_over, test_size=0.1)"
      ],
      "metadata": {
        "id": "7H-UQ_57aQ89"
      },
      "execution_count": null,
      "outputs": []
    },
    {
      "cell_type": "markdown",
      "source": [
        "##Aplicando algoritimos"
      ],
      "metadata": {
        "id": "HDnWlECEcuWP"
      }
    },
    {
      "cell_type": "code",
      "source": [
        "from sklearn.svm import SVC\n",
        "from sklearn.tree import DecisionTreeClassifier\n",
        "from sklearn.ensemble import RandomForestClassifier\n",
        "from sklearn.linear_model import LogisticRegression\n",
        "\n",
        "from sklearn.pipeline import Pipeline\n",
        "from sklearn.preprocessing import StandardScaler\n",
        "from sklearn.metrics import classification_report"
      ],
      "metadata": {
        "id": "j55YtwCgPaQ1"
      },
      "execution_count": null,
      "outputs": []
    },
    {
      "cell_type": "code",
      "source": [
        "svm_pipe = Pipeline([\n",
        "                     ('scaler', StandardScaler()),\n",
        "                     ('svm', SVC())\n",
        "])\n",
        "\n",
        "log_pipe = Pipeline([\n",
        "                     ('scaler', StandardScaler()),\n",
        "                     ('log_clf', LogisticRegression())\n",
        "])\n",
        "\n",
        "tree_clf = DecisionTreeClassifier(min_samples_leaf=5)\n",
        "random_clf = RandomForestClassifier(max_leaf_nodes=12)\n"
      ],
      "metadata": {
        "id": "il28lzvLctsx"
      },
      "execution_count": null,
      "outputs": []
    },
    {
      "cell_type": "code",
      "source": [
        "svm_pipe.fit(X_train, y_train)\n",
        "log_pipe.fit(X_train, y_train)\n",
        "tree_clf.fit(X_train, y_train)\n",
        "random_clf.fit(X_train, y_train)"
      ],
      "metadata": {
        "colab": {
          "base_uri": "https://localhost:8080/"
        },
        "id": "mPW0a-N8dJge",
        "outputId": "4e506248-e44e-4db1-fb21-12dfcc80e525"
      },
      "execution_count": null,
      "outputs": [
        {
          "output_type": "execute_result",
          "data": {
            "text/plain": [
              "RandomForestClassifier(max_leaf_nodes=12)"
            ]
          },
          "metadata": {},
          "execution_count": 145
        }
      ]
    },
    {
      "cell_type": "code",
      "source": [
        "prev_svm = svm_pipe.predict(X_test)\n",
        "prev_tree = tree_clf.predict(X_test)\n",
        "prev_log = log_pipe.predict(X_test)\n",
        "prev_random = random_clf.predict(X_test)"
      ],
      "metadata": {
        "id": "UOW5vTlcdQWC"
      },
      "execution_count": null,
      "outputs": []
    },
    {
      "cell_type": "code",
      "source": [
        "for clf, label in zip([prev_svm, prev_tree, prev_log, prev_random], ['SVM', 'Decision Tree', 'Logistic Regression', 'Random Forest']):\n",
        "  print(f'{label}:\\n {classification_report(y_test, clf)}')"
      ],
      "metadata": {
        "colab": {
          "base_uri": "https://localhost:8080/"
        },
        "id": "q_wqPQH3dVJN",
        "outputId": "33f9d813-f5cf-4f0c-e1b7-983ddbb9431e"
      },
      "execution_count": null,
      "outputs": [
        {
          "output_type": "stream",
          "name": "stdout",
          "text": [
            "SVM:\n",
            "               precision    recall  f1-score   support\n",
            "\n",
            "           0       0.83      0.83      0.83        23\n",
            "           1       0.78      0.78      0.78        18\n",
            "\n",
            "    accuracy                           0.80        41\n",
            "   macro avg       0.80      0.80      0.80        41\n",
            "weighted avg       0.80      0.80      0.80        41\n",
            "\n",
            "Decision Tree:\n",
            "               precision    recall  f1-score   support\n",
            "\n",
            "           0       0.90      0.83      0.86        23\n",
            "           1       0.80      0.89      0.84        18\n",
            "\n",
            "    accuracy                           0.85        41\n",
            "   macro avg       0.85      0.86      0.85        41\n",
            "weighted avg       0.86      0.85      0.85        41\n",
            "\n",
            "Logistic Regression:\n",
            "               precision    recall  f1-score   support\n",
            "\n",
            "           0       0.77      0.87      0.82        23\n",
            "           1       0.80      0.67      0.73        18\n",
            "\n",
            "    accuracy                           0.78        41\n",
            "   macro avg       0.78      0.77      0.77        41\n",
            "weighted avg       0.78      0.78      0.78        41\n",
            "\n",
            "Random Forest:\n",
            "               precision    recall  f1-score   support\n",
            "\n",
            "           0       0.83      0.87      0.85        23\n",
            "           1       0.82      0.78      0.80        18\n",
            "\n",
            "    accuracy                           0.83        41\n",
            "   macro avg       0.83      0.82      0.83        41\n",
            "weighted avg       0.83      0.83      0.83        41\n",
            "\n"
          ]
        }
      ]
    },
    {
      "cell_type": "markdown",
      "source": [
        "##Tuning dos parâmetros"
      ],
      "metadata": {
        "id": "KMsywqe0ju8V"
      }
    },
    {
      "cell_type": "code",
      "source": [
        "from sklearn.model_selection import GridSearchCV"
      ],
      "metadata": {
        "id": "w2cwmCOQj0jc"
      },
      "execution_count": null,
      "outputs": []
    },
    {
      "cell_type": "code",
      "source": [
        "param_tree = [\n",
        "             {'max_depth': [None, 1, 3, 5, 7], 'min_samples_split': [2, 3, 5, 10], 'min_samples_leaf': [1, 2, 3, 5, 10]}\n",
        "]\n",
        "\n",
        "param_random = [\n",
        "                {'n_estimators': [50, 100, 125], 'max_depth': [None, 1, 3, 5, 7], 'min_samples_split': [2, 3, 5, 10], 'min_samples_leaf': [1, 2, 3, 5, 10]}\n",
        "]\n",
        "\n",
        "param_svc = [\n",
        "             {'C': [1, 5, 10], 'kernel': ['linear', 'poly', 'rbf'],}\n",
        "]\n",
        "\n",
        "param_log = [\n",
        "             {'C': [1, 5, 10]},\n",
        "             {'solver': ['liblinear'], 'penalty': ['l1', 'l2'], 'C': [1, 5, 10]},\n",
        "             {'solver': ['saga'], 'penalty': ['elasticnet'], 'l1_ratio': [0.5], 'C': [1, 5, 10]}\n",
        "]"
      ],
      "metadata": {
        "id": "bbiTWwrXkfbX"
      },
      "execution_count": null,
      "outputs": []
    },
    {
      "cell_type": "code",
      "source": [
        "scaler = StandardScaler()\n",
        "svm_clf = SVC()\n",
        "tree_clf = DecisionTreeClassifier()\n",
        "random_clf = RandomForestClassifier()\n",
        "log_clf = LogisticRegression()\n",
        "\n",
        "grid_svm = GridSearchCV(svm_clf, param_svc, cv=5, scoring='accuracy')\n",
        "grid_tree = GridSearchCV(tree_clf, param_tree, cv=5, scoring='accuracy')\n",
        "grid_random = GridSearchCV(random_clf, param_random, cv=5, scoring='accuracy')\n",
        "grid_log = GridSearchCV(log_clf, param_log, cv=5, scoring='accuracy')"
      ],
      "metadata": {
        "id": "hioqFavjnwF2"
      },
      "execution_count": null,
      "outputs": []
    },
    {
      "cell_type": "code",
      "source": [
        "grid_svm.fit(scaler.fit_transform(X_train), y_train)\n",
        "grid_tree.fit(X_train, y_train)\n",
        "grid_random.fit(X_train, y_train)\n",
        "grid_log.fit(scaler.fit_transform(X_train), y_train)"
      ],
      "metadata": {
        "colab": {
          "base_uri": "https://localhost:8080/"
        },
        "id": "YdW_RxqipmA2",
        "outputId": "c6f68e36-e9d4-4535-fedb-36d9507e72a9"
      },
      "execution_count": null,
      "outputs": [
        {
          "output_type": "execute_result",
          "data": {
            "text/plain": [
              "GridSearchCV(cv=5, estimator=LogisticRegression(),\n",
              "             param_grid=[{'C': [1, 5, 10]},\n",
              "                         {'C': [1, 5, 10], 'penalty': ['l1', 'l2'],\n",
              "                          'solver': ['liblinear']},\n",
              "                         {'C': [1, 5, 10], 'l1_ratio': [0.5],\n",
              "                          'penalty': ['elasticnet'], 'solver': ['saga']}],\n",
              "             scoring='accuracy')"
            ]
          },
          "metadata": {},
          "execution_count": 151
        }
      ]
    },
    {
      "cell_type": "code",
      "source": [
        "#Melhores parâmetros para seus respectivos modelos\n",
        "for clf in [grid_svm, grid_tree, grid_random, grid_log]:\n",
        "  print(f'{clf.estimator}: {clf.best_params_}')"
      ],
      "metadata": {
        "colab": {
          "base_uri": "https://localhost:8080/"
        },
        "id": "KjDuWWD3qvjg",
        "outputId": "0659716c-8b3a-48b8-e2ae-a97e7a294ebb"
      },
      "execution_count": null,
      "outputs": [
        {
          "output_type": "stream",
          "name": "stdout",
          "text": [
            "SVC(): {'C': 1, 'kernel': 'linear'}\n",
            "DecisionTreeClassifier(): {'max_depth': 5, 'min_samples_leaf': 3, 'min_samples_split': 10}\n",
            "RandomForestClassifier(): {'max_depth': 7, 'min_samples_leaf': 2, 'min_samples_split': 5, 'n_estimators': 100}\n",
            "LogisticRegression(): {'C': 1, 'penalty': 'l1', 'solver': 'liblinear'}\n"
          ]
        }
      ]
    },
    {
      "cell_type": "code",
      "source": [
        "for grid_clf in [grid_svm, grid_log, grid_tree, grid_random]:\n",
        "  if grid_clf is grid_svm or grid_clf is grid_log:\n",
        "    prev = grid_clf.predict(scaler.transform(X_test))\n",
        "    print(f'{grid_clf.estimator}:\\n {classification_report(y_test, prev)}')\n",
        "  else:\n",
        "    prev = grid_clf.predict(X_test)\n",
        "    print(f'{grid_clf.estimator}:\\n {classification_report(y_test, prev)}')"
      ],
      "metadata": {
        "colab": {
          "base_uri": "https://localhost:8080/"
        },
        "id": "eXfk0nHWwXqn",
        "outputId": "7b1d467d-ff2b-471a-8041-0e6ce53d671b"
      },
      "execution_count": null,
      "outputs": [
        {
          "output_type": "stream",
          "name": "stdout",
          "text": [
            "SVC():\n",
            "               precision    recall  f1-score   support\n",
            "\n",
            "           0       0.80      0.87      0.83        23\n",
            "           1       0.81      0.72      0.76        18\n",
            "\n",
            "    accuracy                           0.80        41\n",
            "   macro avg       0.81      0.80      0.80        41\n",
            "weighted avg       0.81      0.80      0.80        41\n",
            "\n",
            "LogisticRegression():\n",
            "               precision    recall  f1-score   support\n",
            "\n",
            "           0       0.80      0.87      0.83        23\n",
            "           1       0.81      0.72      0.76        18\n",
            "\n",
            "    accuracy                           0.80        41\n",
            "   macro avg       0.81      0.80      0.80        41\n",
            "weighted avg       0.81      0.80      0.80        41\n",
            "\n",
            "DecisionTreeClassifier():\n",
            "               precision    recall  f1-score   support\n",
            "\n",
            "           0       0.86      0.83      0.84        23\n",
            "           1       0.79      0.83      0.81        18\n",
            "\n",
            "    accuracy                           0.83        41\n",
            "   macro avg       0.83      0.83      0.83        41\n",
            "weighted avg       0.83      0.83      0.83        41\n",
            "\n",
            "RandomForestClassifier():\n",
            "               precision    recall  f1-score   support\n",
            "\n",
            "           0       0.81      0.91      0.86        23\n",
            "           1       0.87      0.72      0.79        18\n",
            "\n",
            "    accuracy                           0.83        41\n",
            "   macro avg       0.84      0.82      0.82        41\n",
            "weighted avg       0.83      0.83      0.83        41\n",
            "\n"
          ]
        }
      ]
    },
    {
      "cell_type": "markdown",
      "source": [
        "##Combinação dos modelos com VotingClassifier"
      ],
      "metadata": {
        "id": "N51aZZQHsLka"
      }
    },
    {
      "cell_type": "code",
      "source": [
        "from sklearn.ensemble import VotingClassifier"
      ],
      "metadata": {
        "id": "UcjWTivIsSES"
      },
      "execution_count": null,
      "outputs": []
    },
    {
      "cell_type": "code",
      "source": [
        "grid_svm.best_params_"
      ],
      "metadata": {
        "colab": {
          "base_uri": "https://localhost:8080/"
        },
        "id": "7N-QQuL3vb-6",
        "outputId": "9bfb9640-5289-4c7b-d543-e74a96db4345"
      },
      "execution_count": null,
      "outputs": [
        {
          "output_type": "execute_result",
          "data": {
            "text/plain": [
              "{'C': 1, 'kernel': 'linear'}"
            ]
          },
          "metadata": {},
          "execution_count": 155
        }
      ]
    },
    {
      "cell_type": "code",
      "source": [
        "voting_soft = VotingClassifier(\n",
        "    estimators=[('lr', grid_log.best_estimator_), ('rf', grid_random.best_estimator_), ('dt', grid_tree.best_estimator_), \n",
        "                ('svm', SVC(kernel='linear', probability=True))], voting='soft')\n",
        "\n",
        "voting_hard = VotingClassifier(\n",
        "    estimators=[('lr', grid_log.best_estimator_), ('rf', grid_random.best_estimator_), ('dt', grid_tree.best_estimator_), \n",
        "                ('svm', grid_svm.best_estimator_)], voting='hard')\n",
        "\n",
        "voting_soft.fit(scaler.fit_transform(X_train), y_train)\n",
        "voting_hard.fit(scaler.fit_transform(X_train), y_train)\n",
        "\n",
        "y_pred_soft = voting_soft.predict(scaler.transform(X_test))\n",
        "y_pred_hard = voting_hard.predict(scaler.transform(X_test))\n",
        "\n",
        "print(f'Soft: \\n{classification_report(y_test, y_pred_soft)}')\n",
        "print(f'Hard: \\n{classification_report(y_test, y_pred_hard)}')"
      ],
      "metadata": {
        "colab": {
          "base_uri": "https://localhost:8080/"
        },
        "id": "uvanrEJJs5nr",
        "outputId": "57c520d4-d5cf-422a-f78c-2b1b7b0608d1"
      },
      "execution_count": null,
      "outputs": [
        {
          "output_type": "stream",
          "name": "stdout",
          "text": [
            "Soft: \n",
            "              precision    recall  f1-score   support\n",
            "\n",
            "           0       0.87      0.87      0.87        23\n",
            "           1       0.83      0.83      0.83        18\n",
            "\n",
            "    accuracy                           0.85        41\n",
            "   macro avg       0.85      0.85      0.85        41\n",
            "weighted avg       0.85      0.85      0.85        41\n",
            "\n",
            "Hard: \n",
            "              precision    recall  f1-score   support\n",
            "\n",
            "           0       0.79      0.96      0.86        23\n",
            "           1       0.92      0.67      0.77        18\n",
            "\n",
            "    accuracy                           0.83        41\n",
            "   macro avg       0.85      0.81      0.82        41\n",
            "weighted avg       0.85      0.83      0.82        41\n",
            "\n"
          ]
        }
      ]
    },
    {
      "cell_type": "markdown",
      "source": [
        "Modelo \"Soft\" com maior acurácia e, mais importante, F1-score melhor que o \"Hard\"."
      ],
      "metadata": {
        "id": "eR33chdQSr2t"
      }
    },
    {
      "cell_type": "code",
      "source": [
        "from sklearn.metrics import accuracy_score\n",
        "for clf, label in zip([grid_log, grid_random, grid_tree, grid_svm, voting_hard, voting_soft], ['Log', 'Random', 'Tree', 'SVM', 'Hard', 'Soft']):\n",
        "  if clf is grid_svm or clf is grid_log or clf is voting_hard or clf is voting_soft:\n",
        "    prev = clf.predict(scaler.transform(X_test))\n",
        "  else:\n",
        "    prev = clf.predict(X_test)\n",
        "  print(label, accuracy_score(y_test, prev))"
      ],
      "metadata": {
        "colab": {
          "base_uri": "https://localhost:8080/"
        },
        "id": "fV3x9EcTxWND",
        "outputId": "f2ee2b77-0aff-476e-b33b-3562f4ba5fe9"
      },
      "execution_count": null,
      "outputs": [
        {
          "output_type": "stream",
          "name": "stdout",
          "text": [
            "Log 0.8048780487804879\n",
            "Random 0.8292682926829268\n",
            "Tree 0.8292682926829268\n",
            "SVM 0.8048780487804879\n",
            "Hard 0.8292682926829268\n",
            "Soft 0.8536585365853658\n"
          ]
        }
      ]
    },
    {
      "cell_type": "code",
      "source": [
        "final_model = Pipeline([\n",
        "                        ('scaler', scaler),\n",
        "                        ('voting', voting_soft)\n",
        "])"
      ],
      "metadata": {
        "id": "XdkUI6hxm4TQ"
      },
      "execution_count": null,
      "outputs": []
    },
    {
      "cell_type": "markdown",
      "source": [
        "##Salvando Modelo"
      ],
      "metadata": {
        "id": "kILY8zmg3feD"
      }
    },
    {
      "cell_type": "code",
      "source": [
        "import joblib"
      ],
      "metadata": {
        "id": "niHf-gR93poH"
      },
      "execution_count": null,
      "outputs": []
    },
    {
      "cell_type": "code",
      "source": [
        "joblib.dump(final_model, 'heart_failure_model.pkl')"
      ],
      "metadata": {
        "id": "vq6IKSde3jQG",
        "colab": {
          "base_uri": "https://localhost:8080/"
        },
        "outputId": "298771a7-7701-45ec-80d9-adb0b9d35454"
      },
      "execution_count": null,
      "outputs": [
        {
          "output_type": "execute_result",
          "data": {
            "text/plain": [
              "['heart_failure_model.pkl']"
            ]
          },
          "metadata": {},
          "execution_count": 161
        }
      ]
    }
  ]
}